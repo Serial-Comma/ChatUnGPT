{
 "cells": [
  {
   "cell_type": "code",
   "execution_count": 3,
   "metadata": {},
   "outputs": [
    {
     "name": "stdout",
     "output_type": "stream",
     "text": [
      "\n",
      "            ChatUnGPT  Copyright (C) 2022  Serial-Comma\n",
      "    This program comes with ABSOLUTELY NO WARRANTY; for details type `show w'.\n",
      "    This is free software, and you are welcome to redistribute it\n",
      "    under certain conditions; type `show c' for details.\n",
      "        \n",
      " * Serving Flask app '__main__'\n",
      " * Debug mode: off\n"
     ]
    },
    {
     "name": "stderr",
     "output_type": "stream",
     "text": [
      "\u001b[31m\u001b[1mWARNING: This is a development server. Do not use it in a production deployment. Use a production WSGI server instead.\u001b[0m\n",
      " * Running on http://127.0.0.1:5000\n",
      "\u001b[33mPress CTRL+C to quit\u001b[0m\n",
      "127.0.0.1 - - [18/May/2023 16:44:13] \"\u001b[32mPOST /send HTTP/1.1\u001b[0m\" 302 -\n",
      "127.0.0.1 - - [18/May/2023 16:44:13] \"GET /?success_message=Message+sent+successfully HTTP/1.1\" 200 -\n",
      "127.0.0.1 - - [18/May/2023 16:44:15] \"\u001b[32mPOST /send HTTP/1.1\u001b[0m\" 302 -\n",
      "127.0.0.1 - - [18/May/2023 16:44:16] \"GET /?success_message=Message+sent+successfully HTTP/1.1\" 200 -\n",
      "127.0.0.1 - - [18/May/2023 16:44:18] \"\u001b[32mPOST /send HTTP/1.1\u001b[0m\" 302 -\n",
      "127.0.0.1 - - [18/May/2023 16:44:18] \"GET /?success_message=Message+sent+successfully HTTP/1.1\" 200 -\n"
     ]
    },
    {
     "name": "stdout",
     "output_type": "stream",
     "text": [
      "Error occurred while receiving messages: Lost connection to the remote server\n",
      "Error occurred while receiving messages: Lost connection to the remote server\n"
     ]
    },
    {
     "name": "stderr",
     "output_type": "stream",
     "text": [
      "[2023-05-18 16:44:22,371] ERROR in app: Exception on /send [POST]\n",
      "Traceback (most recent call last):\n",
      "  File \"/home/kenspoems/.pyenv/versions/3.8.16/lib/python3.8/site-packages/flask/app.py\", line 2190, in wsgi_app\n",
      "    response = self.full_dispatch_request()\n",
      "  File \"/home/kenspoems/.pyenv/versions/3.8.16/lib/python3.8/site-packages/flask/app.py\", line 1486, in full_dispatch_request\n",
      "    rv = self.handle_user_exception(e)\n",
      "  File \"/home/kenspoems/.pyenv/versions/3.8.16/lib/python3.8/site-packages/flask/app.py\", line 1484, in full_dispatch_request\n",
      "    rv = self.dispatch_request()\n",
      "  File \"/home/kenspoems/.pyenv/versions/3.8.16/lib/python3.8/site-packages/flask/app.py\", line 1469, in dispatch_request\n",
      "    return self.ensure_sync(self.view_functions[rule.endpoint])(**view_args)\n",
      "  File \"/tmp/ipykernel_11734/4285644414.py\", line 57, in send\n",
      "    chat_socket.sendall(message.encode())\n",
      "OSError: [Errno 9] Bad file descriptor\n",
      "127.0.0.1 - - [18/May/2023 16:44:22] \"\u001b[35m\u001b[1mPOST /send HTTP/1.1\u001b[0m\" 500 -\n"
     ]
    }
   ],
   "source": [
    "import os, socket, sqlite3 , datetime\n",
    "from flask import Flask, render_template, send_from_directory, url_for, g, request, redirect\n",
    "from werkzeug.utils import secure_filename\n",
    "import threading\n",
    "\n",
    "#Change port and address below\\/\\/\\\\/\\/\\/\\/\n",
    "\n",
    "\n",
    "chat_socket = socket.socket()\n",
    "address = '127.0.0.0'\n",
    "port =  1025\n",
    "\n",
    "\n",
    "#Change port and address above^^^^^\n",
    "\n",
    "\n",
    "try:\n",
    "    chat_socket.connect((address, port))\n",
    "except ConnectionRefusedError:\n",
    "    print(f\"Unable to connect to the remote server at {address}. Make sure the remote server is running.\")\n",
    "\n",
    "# chat_socket.connect((address, port))\n",
    "success_message = ''\n",
    "\n",
    "messages = []\n",
    "\n",
    "\n",
    "def receive_messages():\n",
    "    while True:\n",
    "        try:\n",
    "            data = chat_socket.recv(1024).decode()  # Receive data from the remote server\n",
    "            if not data:\n",
    "                raise ConnectionError(\"Lost connection to the remote server\")\n",
    "            messages.append(data)  # Append the received message to the messages list\n",
    "        except (ConnectionError, socket.error) as e:\n",
    "            print(f\"Error occurred while receiving messages: {str(e)}\")\n",
    "            chat_socket.close()\n",
    "            break\n",
    "\n",
    "\n",
    "receive_thread = threading.Thread(target=receive_messages)\n",
    "receive_thread.start()\n",
    "\n",
    "app = Flask(__name__)\n",
    "\n",
    "@app.route('/')\n",
    "def index():\n",
    "    return render_template('index.html', messages=messages)\n",
    "\n",
    "@app.route('/send', methods=['POST'])\n",
    "def send():\n",
    "    message = request.form['message']\n",
    "    if message == \"&exit\":\n",
    "        message = message.encode()\n",
    "        chat_socket.sendall(message)\n",
    "        raise RuntimeError(\"Process ended\")\n",
    "    chat_socket.sendall(message.encode())\n",
    "    messages.append(message)\n",
    "    successful_message = \"Message sent successfully\"\n",
    "    return redirect(url_for('index', success_message=successful_message))\n",
    "\n",
    "\n",
    "\n",
    "if __name__ == '__main__':\n",
    "    print(\n",
    "        \"\"\"\n",
    "            ChatUnGPT  Copyright (C) 2022  Serial-Comma\n",
    "    This program comes with ABSOLUTELY NO WARRANTY; for details type `show w'.\n",
    "    This is free software, and you are welcome to redistribute it\n",
    "    under certain conditions; type `show c' for details.\n",
    "        \"\"\"\n",
    "    )\n",
    "    app.run()\n"
   ]
  },
  {
   "cell_type": "code",
   "execution_count": null,
   "metadata": {},
   "outputs": [],
   "source": []
  }
 ],
 "metadata": {
  "kernelspec": {
   "display_name": "Python 3",
   "language": "python",
   "name": "python3"
  },
  "language_info": {
   "codemirror_mode": {
    "name": "ipython",
    "version": 3
   },
   "file_extension": ".py",
   "mimetype": "text/x-python",
   "name": "python",
   "nbconvert_exporter": "python",
   "pygments_lexer": "ipython3",
   "version": "3.8.16"
  },
  "orig_nbformat": 4
 },
 "nbformat": 4,
 "nbformat_minor": 2
}
