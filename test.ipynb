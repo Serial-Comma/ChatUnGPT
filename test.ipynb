{
 "cells": [
  {
   "cell_type": "code",
   "execution_count": 5,
   "metadata": {},
   "outputs": [
    {
     "name": "stdout",
     "output_type": "stream",
     "text": [
      " * Serving Flask app '__main__'\n",
      " * Debug mode: off\n"
     ]
    },
    {
     "name": "stderr",
     "output_type": "stream",
     "text": [
      "\u001b[31m\u001b[1mWARNING: This is a development server. Do not use it in a production deployment. Use a production WSGI server instead.\u001b[0m\n",
      " * Running on http://127.0.0.1:5000\n",
      "\u001b[33mPress CTRL+C to quit\u001b[0m\n",
      "127.0.0.1 - - [17/May/2023 16:34:46] \"GET / HTTP/1.1\" 200 -\n",
      "127.0.0.1 - - [17/May/2023 16:34:49] \"POST /send HTTP/1.1\" 200 -\n",
      "127.0.0.1 - - [17/May/2023 16:34:56] \"GET / HTTP/1.1\" 200 -\n",
      "127.0.0.1 - - [17/May/2023 16:35:01] \"POST /send HTTP/1.1\" 200 -\n"
     ]
    }
   ],
   "source": [
    "import os, socket, sqlite3 , datetime\n",
    "from flask import Flask, render_template, send_from_directory, url_for, g, request\n",
    "from werkzeug.utils import secure_filename\n",
    "import threading\n",
    "\n",
    "def find_usable_port():\n",
    "    listen_socket = socket.socket()\n",
    "    amogus = 'h'\n",
    "    for ip in range(0,255):\n",
    "        for port in range(1024,65536):\n",
    "            try:\n",
    "                print(f\"trying 127.0.0.{ip}, port {port}\")\n",
    "                listen_socket.bind((f'127.0.0.{ip}',port))\n",
    "                listen_socket.listen()\n",
    "            except Exception as e:\n",
    "                print(e)\n",
    "            else:\n",
    "                amogus = 'l bozo'\n",
    "                break\n",
    "        if amogus != 'h':\n",
    "            break\n",
    "\n",
    "    return ((f'127.0.0.{ip}',port))\n",
    "\n",
    "\n",
    "chat_socket = socket.socket()\n",
    "address = '127.0.0.1'\n",
    "port =  1234\n",
    "chat_socket.connect((address, port))\n",
    "\n",
    "messages = []\n",
    "\n",
    "def receive_messages():\n",
    "    while True:\n",
    "        data = b''\n",
    "        while b'\\n' not in data:\n",
    "            data += chat_socket.recv(1024)\n",
    "        messages.append(data.decode())\n",
    "\n",
    "receive_thread = threading.Thread(target=receive_messages)\n",
    "receive_thread.start()\n",
    "\n",
    "app = Flask(__name__)\n",
    "\n",
    "@app.route('/')\n",
    "def index():\n",
    "\n",
    "\n",
    "    \n",
    "    return render_template('index.html', messages=messages)\n",
    "\n",
    "@app.route('/send', methods=['POST'])\n",
    "def send():\n",
    "    message = request.form['message']\n",
    "    chat_socket.sendall(message.encode())\n",
    "    messages.append(message)\n",
    "    return 'Message sent successfully'\n",
    "\n",
    "\n",
    "if __name__ == '__main__':\n",
    "    app.run()\n"
   ]
  },
  {
   "cell_type": "code",
   "execution_count": null,
   "metadata": {},
   "outputs": [],
   "source": []
  }
 ],
 "metadata": {
  "kernelspec": {
   "display_name": "Python 3",
   "language": "python",
   "name": "python3"
  },
  "language_info": {
   "codemirror_mode": {
    "name": "ipython",
    "version": 3
   },
   "file_extension": ".py",
   "mimetype": "text/x-python",
   "name": "python",
   "nbconvert_exporter": "python",
   "pygments_lexer": "ipython3",
   "version": "3.8.16"
  },
  "orig_nbformat": 4
 },
 "nbformat": 4,
 "nbformat_minor": 2
}
