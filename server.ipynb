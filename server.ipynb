{
 "cells": [
  {
   "cell_type": "code",
   "execution_count": 5,
   "metadata": {},
   "outputs": [
    {
     "name": "stdout",
     "output_type": "stream",
     "text": [
      "Trying 127.0.0.0, port 1024\n",
      "[Errno 98] Address already in use\n",
      "Trying 127.0.0.0, port 1025\n",
      "Server started at  ('127.0.0.0', 1025)\n",
      "Connected with ('127.0.0.1', 47786)\n",
      "Received message from ('127.0.0.1', 47786): test 1\n",
      "Received message from ('127.0.0.1', 47786): 2\n",
      "Received message from ('127.0.0.1', 47786): wasd\n",
      "Received message from ('127.0.0.1', 47786): hello\n",
      "Received message from ('127.0.0.1', 47786): hi\n",
      "Received message from ('127.0.0.1', 47786): &exit\n",
      "Connected with ('127.0.0.1', 37226)\n",
      "Received message from ('127.0.0.1', 37226): test\n",
      "Received message from ('127.0.0.1', 37226): 1234\n",
      "Received message from ('127.0.0.1', 37226): among\n",
      "Error occurred while handling client ('127.0.0.1', 37226): [Errno 32] Broken pipe\n"
     ]
    },
    {
     "ename": "KeyboardInterrupt",
     "evalue": "",
     "output_type": "error",
     "traceback": [
      "\u001b[0;31m---------------------------------------------------------------------------\u001b[0m",
      "\u001b[0;31mKeyboardInterrupt\u001b[0m                         Traceback (most recent call last)",
      "Cell \u001b[0;32mIn[5], line 60\u001b[0m\n\u001b[1;32m     58\u001b[0m \u001b[39mif\u001b[39;00m \u001b[39m__name__\u001b[39m \u001b[39m==\u001b[39m \u001b[39m'\u001b[39m\u001b[39m__main__\u001b[39m\u001b[39m'\u001b[39m:\n\u001b[1;32m     59\u001b[0m     \u001b[39mprint\u001b[39m(\u001b[39m'\u001b[39m\u001b[39mServer started at \u001b[39m\u001b[39m'\u001b[39m, server_address)\n\u001b[0;32m---> 60\u001b[0m     start_server()  \n",
      "Cell \u001b[0;32mIn[5], line 52\u001b[0m, in \u001b[0;36mstart_server\u001b[0;34m()\u001b[0m\n\u001b[1;32m     50\u001b[0m \u001b[39mdef\u001b[39;00m \u001b[39mstart_server\u001b[39m():\n\u001b[1;32m     51\u001b[0m     \u001b[39mwhile\u001b[39;00m \u001b[39mTrue\u001b[39;00m:\n\u001b[0;32m---> 52\u001b[0m         client_socket, client_address \u001b[39m=\u001b[39m server_socket\u001b[39m.\u001b[39;49maccept()\n\u001b[1;32m     53\u001b[0m         clients\u001b[39m.\u001b[39mappend(client_socket)\n\u001b[1;32m     54\u001b[0m         \u001b[39mprint\u001b[39m(\u001b[39mf\u001b[39m\u001b[39m'\u001b[39m\u001b[39mConnected with \u001b[39m\u001b[39m{\u001b[39;00mclient_address\u001b[39m}\u001b[39;00m\u001b[39m'\u001b[39m)\n",
      "File \u001b[0;32m~/.pyenv/versions/3.8.16/lib/python3.8/socket.py:292\u001b[0m, in \u001b[0;36msocket.accept\u001b[0;34m(self)\u001b[0m\n\u001b[1;32m    285\u001b[0m \u001b[39mdef\u001b[39;00m \u001b[39maccept\u001b[39m(\u001b[39mself\u001b[39m):\n\u001b[1;32m    286\u001b[0m \u001b[39m    \u001b[39m\u001b[39m\"\"\"accept() -> (socket object, address info)\u001b[39;00m\n\u001b[1;32m    287\u001b[0m \n\u001b[1;32m    288\u001b[0m \u001b[39m    Wait for an incoming connection.  Return a new socket\u001b[39;00m\n\u001b[1;32m    289\u001b[0m \u001b[39m    representing the connection, and the address of the client.\u001b[39;00m\n\u001b[1;32m    290\u001b[0m \u001b[39m    For IP sockets, the address info is a pair (hostaddr, port).\u001b[39;00m\n\u001b[1;32m    291\u001b[0m \u001b[39m    \"\"\"\u001b[39;00m\n\u001b[0;32m--> 292\u001b[0m     fd, addr \u001b[39m=\u001b[39m \u001b[39mself\u001b[39;49m\u001b[39m.\u001b[39;49m_accept()\n\u001b[1;32m    293\u001b[0m     sock \u001b[39m=\u001b[39m socket(\u001b[39mself\u001b[39m\u001b[39m.\u001b[39mfamily, \u001b[39mself\u001b[39m\u001b[39m.\u001b[39mtype, \u001b[39mself\u001b[39m\u001b[39m.\u001b[39mproto, fileno\u001b[39m=\u001b[39mfd)\n\u001b[1;32m    294\u001b[0m     \u001b[39m# Issue #7995: if no default timeout is set and the listening\u001b[39;00m\n\u001b[1;32m    295\u001b[0m     \u001b[39m# socket had a (non-zero) timeout, force the new socket in blocking\u001b[39;00m\n\u001b[1;32m    296\u001b[0m     \u001b[39m# mode to override platform-specific socket flags inheritance.\u001b[39;00m\n",
      "\u001b[0;31mKeyboardInterrupt\u001b[0m: "
     ]
    }
   ],
   "source": [
    "import socket\n",
    "import threading\n",
    "\n",
    "def find_usable_port():\n",
    "    listen_socket = socket.socket()\n",
    "    amogus = 'h'\n",
    "    for ip in range(0,255):\n",
    "        for port in range(1024,65536):\n",
    "            try:\n",
    "                print(f\"Trying 127.0.0.{ip}, port {port}\")\n",
    "                listen_socket.bind((f'127.0.0.{ip}',port))\n",
    "                listen_socket.listen()\n",
    "            except Exception as e:\n",
    "                print(e)\n",
    "            else:\n",
    "                amogus = 'l bozo'\n",
    "                break\n",
    "        if amogus != 'h':\n",
    "            break\n",
    "\n",
    "    return ((f'127.0.0.{ip}',port))\n",
    "\n",
    "\n",
    "\n",
    "# Set up the server socket\n",
    "server_socket = socket.socket(socket.AF_INET, socket.SOCK_STREAM)\n",
    "\n",
    "server_address = find_usable_port()  # Replace with the desired server IP address and port\n",
    "server_socket.bind(server_address)\n",
    "server_socket.listen(5)\n",
    "\n",
    "clients = []\n",
    "\n",
    "def handle_client(client_socket, client_address):\n",
    "    while True:\n",
    "        try:\n",
    "            data = client_socket.recv(1024).decode()  # Receive data from the client\n",
    "            if data:\n",
    "                print(f'Received message from {client_address}: {data}')\n",
    "                # Broadcast the received message to all clients\n",
    "                for client in clients:\n",
    "                    if client != client_socket:\n",
    "                        client.sendall(data.encode())\n",
    "        except Exception as e:\n",
    "            print(f'Error occurred while handling client {client_address}: {str(e)}')\n",
    "            clients.remove(client_socket)\n",
    "            client_socket.close()\n",
    "            break\n",
    "\n",
    "def start_server():\n",
    "    while True:\n",
    "        client_socket, client_address = server_socket.accept()\n",
    "        clients.append(client_socket)\n",
    "        print(f'Connected with {client_address}')\n",
    "        client_thread = threading.Thread(target=handle_client, args=(client_socket, client_address))\n",
    "        client_thread.start()\n",
    "\n",
    "if __name__ == '__main__':\n",
    "    print('Server started at ', server_address)\n",
    "    start_server()  \n"
   ]
  }
 ],
 "metadata": {
  "kernelspec": {
   "display_name": "Python 3",
   "language": "python",
   "name": "python3"
  },
  "language_info": {
   "codemirror_mode": {
    "name": "ipython",
    "version": 3
   },
   "file_extension": ".py",
   "mimetype": "text/x-python",
   "name": "python",
   "nbconvert_exporter": "python",
   "pygments_lexer": "ipython3",
   "version": "3.8.16"
  },
  "orig_nbformat": 4
 },
 "nbformat": 4,
 "nbformat_minor": 2
}
