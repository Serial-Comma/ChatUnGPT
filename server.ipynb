{
 "cells": [
  {
   "cell_type": "code",
   "execution_count": 4,
   "metadata": {},
   "outputs": [
    {
     "name": "stdout",
     "output_type": "stream",
     "text": [
      "Server started.\n",
      "Connected with ('127.0.0.1', 44022)\n",
      "Received message from ('127.0.0.1', 44022): hello\n",
      "Received message from ('127.0.0.1', 44022): wasd\n"
     ]
    }
   ],
   "source": [
    "import socket\n",
    "import threading\n",
    "\n",
    "# Set up the server socket\n",
    "server_socket = socket.socket(socket.AF_INET, socket.SOCK_STREAM)\n",
    "server_address = ('127.0.0.1', 1234)  # Replace with the desired server IP address and port\n",
    "server_socket.bind(server_address)\n",
    "server_socket.listen(5)\n",
    "\n",
    "clients = []\n",
    "\n",
    "def handle_client(client_socket, client_address):\n",
    "    while True:\n",
    "        try:\n",
    "            data = client_socket.recv(1024).decode()  # Receive data from the client\n",
    "            if data:\n",
    "                print(f'Received message from {client_address}: {data}')\n",
    "                # Broadcast the received message to all clients\n",
    "                for client in clients:\n",
    "                    if client != client_socket:\n",
    "                        client.sendall(data.encode())\n",
    "        except Exception as e:\n",
    "            print(f'Error occurred while handling client {client_address}: {str(e)}')\n",
    "            clients.remove(client_socket)\n",
    "            client_socket.close()\n",
    "            break\n",
    "\n",
    "def start_server():\n",
    "    while True:\n",
    "        client_socket, client_address = server_socket.accept()\n",
    "        clients.append(client_socket)\n",
    "        print(f'Connected with {client_address}')\n",
    "        client_thread = threading.Thread(target=handle_client, args=(client_socket, client_address))\n",
    "        client_thread.start()\n",
    "\n",
    "if __name__ == '__main__':\n",
    "    print('Server started.')\n",
    "    start_server()\n"
   ]
  }
 ],
 "metadata": {
  "kernelspec": {
   "display_name": "Python 3",
   "language": "python",
   "name": "python3"
  },
  "language_info": {
   "codemirror_mode": {
    "name": "ipython",
    "version": 3
   },
   "file_extension": ".py",
   "mimetype": "text/x-python",
   "name": "python",
   "nbconvert_exporter": "python",
   "pygments_lexer": "ipython3",
   "version": "3.8.16"
  },
  "orig_nbformat": 4
 },
 "nbformat": 4,
 "nbformat_minor": 2
}
